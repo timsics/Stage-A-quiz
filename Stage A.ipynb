{
 "cells": [
  {
   "cell_type": "code",
   "execution_count": 1,
   "metadata": {},
   "outputs": [
    {
     "name": "stdout",
     "output_type": "stream",
     "text": [
      "Item\n",
      "Alcohol, Non-Food         0.0\n",
      "Alcoholic Beverages     191.0\n",
      "Animal Products         444.0\n",
      "Animal fats              18.0\n",
      "Apples and products     463.0\n",
      "                        ...  \n",
      "Vegetables, Other      5063.0\n",
      "Vegetal Products       2932.0\n",
      "Wheat and products     2436.0\n",
      "Wine                     52.0\n",
      "Yams                      0.0\n",
      "Name: Y2014, Length: 119, dtype: float64 \n",
      " Item\n",
      "Alcohol, Non-Food        2348.00\n",
      "Alcoholic Beverages     95581.06\n",
      "Animal Products         11547.65\n",
      "Animal fats            269617.53\n",
      "Apples and products     10198.90\n",
      "                         ...    \n",
      "Vegetables, Other      157752.59\n",
      "Vegetal Products       107655.20\n",
      "Wheat and products     240047.62\n",
      "Wine                     4178.02\n",
      "Yams                   229174.59\n",
      "Name: Y2017, Length: 119, dtype: float64\n"
     ]
    }
   ],
   "source": [
    "import pandas as pd\n",
    "import matplotlib.pyplot as plt\n",
    "import seaborn as sns\n",
    "\n",
    "\n",
    "doc='FoodBalanceSheets_E_Africa_NOFLAG.csv'\n",
    "food=pd.read_csv(doc, encoding='latin-1')\n",
    "\n",
    "#1 Total sum of Animal fat in 2014 aand 2017\n",
    "\n",
    "items_sum_14=food.groupby('Item')['Y2014'].first()\n",
    "items_sum_17=food.groupby('Item')['Y2017'].sum()\n",
    "print(items_sum_14, \"\\n\", items_sum_17)\n",
    "#dir(items_sum_14)"
   ]
  },
  {
   "cell_type": "code",
   "execution_count": 100,
   "metadata": {},
   "outputs": [
    {
     "data": {
      "text/plain": [
       "count     59395.000000\n",
       "mean        135.235966\n",
       "std        1603.403984\n",
       "min       -3161.000000\n",
       "25%           0.000000\n",
       "50%           0.080000\n",
       "75%           8.460000\n",
       "max      181137.000000\n",
       "Name: Y2015, dtype: float64"
      ]
     },
     "execution_count": 100,
     "metadata": {},
     "output_type": "execute_result"
    }
   ],
   "source": [
    "#2 mean and stddev for Y2015\n",
    "food['Y2015'].describe()"
   ]
  },
  {
   "cell_type": "code",
   "execution_count": 102,
   "metadata": {},
   "outputs": [
    {
     "name": "stdout",
     "output_type": "stream",
     "text": [
      "1535 \n",
      " 2.5187470259094566\n"
     ]
    }
   ],
   "source": [
    "#3  Num of missing data in Y2016\n",
    "missing_val=food['Y2016'].isnull().sum()\n",
    "percent_miss=missing_val/60943*100\n",
    "\n",
    "print(missing_val,'\\n', percent_miss)"
   ]
  },
  {
   "cell_type": "code",
   "execution_count": 10,
   "metadata": {},
   "outputs": [
    {
     "data": {
      "text/plain": [
       "<matplotlib.axes._subplots.AxesSubplot at 0x16286806cc8>"
      ]
     },
     "execution_count": 10,
     "metadata": {},
     "output_type": "execute_result"
    },
    {
     "data": {
      "image/png": "[encoded data removed]",
      "text/plain": [
       "<Figure size 432x288 with 2 Axes>"
      ]
     },
     "metadata": {
      "needs_background": "light"
     },
     "output_type": "display_data"
    }
   ],
   "source": [
    "#4 Year that has highest correlation with element code\n",
    "correlate=food.corr()\n",
    "sns.heatmap(correlate, cmap='Greens')\n",
    "#print(correlate)"
   ]
  },
  {
   "cell_type": "code",
   "execution_count": 132,
   "metadata": {},
   "outputs": [
    {
     "name": "stdout",
     "output_type": "stream",
     "text": [
      "['Y2014', 'Y2015', 'Y2016', 'Y2017', 'Y2018'] \n",
      " [274144.48, 267018.4600000001, 286582.7800000003, 294559.0900000001, 287997.08999999997]\n",
      "Year with highest import quantity \n",
      " Y2017 : 294559.0900000001\n"
     ]
    }
   ],
   "source": [
    "#5 Year with Highest sum of import quantity\n",
    "\n",
    "col=food.columns  #list of columns in the dataset\n",
    "count=7\n",
    "year_list=[]  #List of Years\n",
    "import_sum=[]   #List of Sum of imports\n",
    "highest=0\n",
    "year=None\n",
    "\n",
    "for n in range(count,len(col)):\n",
    "    s=food.groupby('Element')[col[count]].sum() \n",
    "    year_list.append(col[count])     \n",
    "    import_sum.append(s[7])\n",
    "    \n",
    "    \n",
    "    if s[7]>highest:\n",
    "        highest=s[7]   #Get the highest value of imprts sum\n",
    "        year=col[count] #Get the year with highest \n",
    "        \n",
    "    count+=1\n",
    "\n",
    "\n",
    "    \n",
    "print(year_list, \"\\n\",import_sum)\n",
    "print('Year with highest import quantity \\n' ,year,':',highest)\n",
    "    \n",
    "    \n",
    "                        "
   ]
  },
  {
   "cell_type": "code",
   "execution_count": null,
   "metadata": {},
   "outputs": [],
   "source": [
    "#6 total number of sum of production in 2014"
   ]
  }
 ],
 "metadata": {
  "kernelspec": {
   "display_name": "Python 3",
   "language": "python",
   "name": "python3"
  },
  "language_info": {
   "codemirror_mode": {
    "name": "ipython",
    "version": 3
   },
   "file_extension": ".py",
   "mimetype": "text/x-python",
   "name": "python",
   "nbconvert_exporter": "python",
   "pygments_lexer": "ipython3",
   "version": "3.7.4"
  }
 },
 "nbformat": 4,
 "nbformat_minor": 2
}
